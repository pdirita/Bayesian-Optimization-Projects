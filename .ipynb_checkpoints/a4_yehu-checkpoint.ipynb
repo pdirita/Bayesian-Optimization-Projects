{
 "cells": [
  {
   "cell_type": "markdown",
   "metadata": {},
   "source": [
    "# Assessment of Yehu Chen's Problem 4\n",
    "\n",
    "## Part 1\n",
    "\n",
    "For a GP, the quantile function takes the form\n",
    "\n",
    "\\begin{equation}\n",
    "\\mu + \\beta \\sigma\n",
    "\\end{equation}\n",
    "\n",
    "where the beta term is the inverse gaussian CDF at the confidence term and sigma is the root of the covariance function (section 8.4)\n",
    "\n",
    "## Part 2\n",
    "\n",
    "When pi=0, the UCB acquisition function selects points with lower uncertainty. In this case, we are doing exploitation\n",
    "\n",
    "\n",
    "## Part 3\n",
    "\n",
    "When pi=1, the UCB acquisition function selects points with higher uncertainty. In this case, we are doing exploration\n",
    "\n",
    "# Reflection\n",
    "\n",
    "Chapter 8 pretty much just gives away the answers to this problem, but I liked how it caused me to investigate UCB on a deeper level. It was a very quick problem, so I would have appreciated an implementation using UCB or something else of that nature as well."
   ]
  },
  {
   "cell_type": "markdown",
   "metadata": {},
   "source": []
  }
 ],
 "metadata": {
  "kernelspec": {
   "display_name": "Python 3",
   "language": "python",
   "name": "python3"
  },
  "language_info": {
   "codemirror_mode": {
    "name": "ipython",
    "version": 3
   },
   "file_extension": ".py",
   "mimetype": "text/x-python",
   "name": "python",
   "nbconvert_exporter": "python",
   "pygments_lexer": "ipython3",
   "version": "3.7.9"
  }
 },
 "nbformat": 4,
 "nbformat_minor": 4
}
