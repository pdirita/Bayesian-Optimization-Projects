{
 "cells": [
  {
   "cell_type": "markdown",
   "metadata": {},
   "source": [
    "# Assessment of Aidan Kelley's Problem 2"
   ]
  },
  {
   "cell_type": "code",
   "execution_count": 1,
   "metadata": {},
   "outputs": [],
   "source": [
    "import math\n",
    "import torch\n",
    "import gpytorch\n",
    "import gc\n",
    "import numpy as np\n",
    "from scipy import optimize\n",
    "from matplotlib import pyplot as plt\n",
    "from IPython.display import display, clear_output\n",
    "\n",
    "%matplotlib inline\n",
    "%load_ext autoreload\n",
    "%autoreload 2\n",
    "\n",
    "torch.set_default_tensor_type('torch.cuda.FloatTensor')\n",
    "torch.manual_seed(40)\n",
    "np.random.seed(40)"
   ]
  },
  {
   "cell_type": "code",
   "execution_count": 14,
   "metadata": {},
   "outputs": [],
   "source": [
    "# f(x) = g1(A1*x1) + g2(A2*x2)\n",
    "# f(-1,1,2) = 2\n",
    "# f(0,1,-2) = 2\n",
    "# f(-2,2,-1) = 3\n",
    "# f(-2,0,-2) = 1\n",
    "# f(2,1,1) = 2\n",
    "# x1 = (a,b)\n",
    "# x2 = (c)\n",
    "\n",
    "trainPoints = [\n",
    "    [-1,1,2],\n",
    "    [0,1,-2],\n",
    "    [-2,2,-1],\n",
    "    [-2,0,-2],\n",
    "    [2,1,1]\n",
    "]\n",
    "\n",
    "trainVals = [2, 2, 3, 1, 2]\n",
    "\n",
    "train_x = torch.tensor(trainPoints)\n",
    "train_y = torch.tensor(trainVals)\n",
    "\n",
    "A1 = torch.rand(2,2)\n",
    "A2 = torch.rand(1)"
   ]
  },
  {
   "cell_type": "code",
   "execution_count": 22,
   "metadata": {},
   "outputs": [],
   "source": [
    "class GPRegressionModel(gpytorch.models.ExactGP):\n",
    "    def __init__(self, train_x, train_y, likelihood):\n",
    "        super(GPRegressionModel, self).__init__(train_x, train_y, likelihood)\n",
    "\n",
    "        # SKI requires a grid size hyperparameter. This util can help with that\n",
    "        grid_size = gpytorch.utils.grid.choose_grid_size(train_x, kronecker_structure=False)\n",
    "\n",
    "        self.mean_module = gpytorch.means.ConstantMean()\n",
    "        self.covar_module = gpytorch.kernels.AdditiveStructureKernel(\n",
    "            gpytorch.kernels.ScaleKernel(\n",
    "                gpytorch.kernels.GridInterpolationKernel(\n",
    "                    gpytorch.kernels.RBFKernel(), grid_size=128, num_dims=1\n",
    "                )\n",
    "            ), num_dims=2\n",
    "        )\n",
    "\n",
    "    def forward(self, x):\n",
    "        mean_x = self.mean_module(x)\n",
    "        covar_x = self.covar_module(x)\n",
    "        return gpytorch.distributions.MultivariateNormal(mean_x, covar_x)\n",
    "\n",
    "\n",
    "likelihood = gpytorch.likelihoods.GaussianLikelihood().cuda()\n",
    "model = GPRegressionModel(train_x, train_y, likelihood).cuda()"
   ]
  },
  {
   "cell_type": "code",
   "execution_count": 23,
   "metadata": {},
   "outputs": [],
   "source": [
    "# Find optimal model hyperparameters\n",
    "model.train()\n",
    "likelihood.train()\n",
    "\n",
    "# Use the adam optimizer\n",
    "optimizer = torch.optim.Adam(model.parameters(), lr=0.1)  # Includes GaussianLikelihood parameters\n",
    "\n",
    "# \"Loss\" for GPs - the marginal log likelihood\n",
    "mll = gpytorch.mlls.ExactMarginalLogLikelihood(likelihood, model)\n",
    "\n",
    "def train(training_iterations):\n",
    "    for i in range(training_iterations):\n",
    "        clear_output(wait=True)\n",
    "        optimizer.zero_grad()\n",
    "        output = model(train_x)\n",
    "        loss = -mll(output, train_y)\n",
    "        loss.backward()\n",
    "        display('Iter %d/%d - Loss: %.3f' % (i + 1, training_iterations, loss.item()))\n",
    "        optimizer.step()"
   ]
  },
  {
   "cell_type": "code",
   "execution_count": 25,
   "metadata": {},
   "outputs": [
    {
     "data": {
      "text/plain": [
       "'Iter 1000/1000 - Loss: 0.961'"
      ]
     },
     "metadata": {},
     "output_type": "display_data"
    }
   ],
   "source": [
    "train(1000)"
   ]
  },
  {
   "cell_type": "code",
   "execution_count": 43,
   "metadata": {},
   "outputs": [],
   "source": [
    "# Set model and likelihood into evaluation mode\n",
    "model.eval()\n",
    "likelihood.eval()\n",
    "\n",
    "# Generate nxn grid of test points spaced on a grid of size 1/(n-1) in [0,1]x[0,1]\n",
    "test_x = torch.FloatTensor(100, 3).uniform_(-5, 5).long().cuda()"
   ]
  },
  {
   "cell_type": "code",
   "execution_count": 44,
   "metadata": {},
   "outputs": [],
   "source": [
    "with torch.no_grad(), gpytorch.settings.fast_pred_var():\n",
    "    observed_pred = likelihood(model(test_x))\n",
    "    pred_labels = observed_pred.mean.view(10, 10)"
   ]
  },
  {
   "cell_type": "code",
   "execution_count": 46,
   "metadata": {},
   "outputs": [
    {
     "data": {
      "image/png": "[encoded data removed]",
      "text/plain": [
       "<Figure size 288x216 with 2 Axes>"
      ]
     },
     "metadata": {
      "needs_background": "light"
     },
     "output_type": "display_data"
    }
   ],
   "source": [
    "n=10\n",
    "\n",
    "# Define a plotting function\n",
    "def ax_plot(f, ax, y_labels, title):\n",
    "    im = ax.imshow(y_labels.cpu())\n",
    "    ax.set_title(title)\n",
    "    f.colorbar(im)\n",
    "\n",
    "# Plot our predictive means\n",
    "f, observed_ax = plt.subplots(1, 1, figsize=(4, 3))\n",
    "ax_plot(f, observed_ax, pred_labels, 'Predicted Values (Likelihood)')\n"
   ]
  },
  {
   "cell_type": "code",
   "execution_count": 51,
   "metadata": {},
   "outputs": [
    {
     "data": {
      "text/plain": [
       "tensor([2.0001, 1.9998, 2.0001, 2.0001, 2.0001, 2.0001, 2.0001, 2.0001, 2.0001,\n",
       "        1.9998, 2.0001, 2.0001, 2.0001, 2.0001, 2.0004, 2.0001, 2.0001, 2.0001,\n",
       "        1.9998, 2.0001, 1.9995, 2.0004, 2.0001, 2.0001, 2.0004, 2.0001, 2.0004,\n",
       "        2.0004, 1.9998, 2.0001, 2.0001, 1.9998, 2.0004, 2.0001, 2.0001, 2.0001,\n",
       "        2.0001, 2.0001, 1.9998, 2.0001, 2.0004, 1.9998, 2.0004, 2.0001, 2.0001,\n",
       "        2.0001, 2.0001, 1.9998, 1.9998, 1.9998, 2.0001, 2.0004, 2.0001, 2.0001,\n",
       "        2.0001, 2.0001, 2.0001, 2.0004, 2.0001, 1.9998, 2.0001, 1.9998, 2.0001,\n",
       "        1.9998, 1.9998, 2.0001, 2.0001, 2.0001, 2.0001, 2.0001, 2.0001, 2.0001,\n",
       "        2.0001, 2.0001, 2.0001, 2.0004, 2.0007, 2.0001, 1.9998, 2.0001, 2.0001,\n",
       "        2.0001, 2.0001, 2.0001, 1.9998, 2.0001, 1.9998, 2.0001, 2.0001, 2.0004,\n",
       "        2.0001, 2.0001, 2.0001, 2.0004, 2.0004, 2.0001, 2.0001, 2.0001, 2.0001,\n",
       "        2.0007], grad_fn=<ViewBackward>)"
      ]
     },
     "execution_count": 51,
     "metadata": {},
     "output_type": "execute_result"
    }
   ],
   "source": [
    "model(test_x).mean"
   ]
  },
  {
   "cell_type": "markdown",
   "metadata": {},
   "source": [
    "# Reflection\n",
    "\n",
    "Honestly I have no clude if I was even close to going in the right direction on this one. I tried to implement using GPytorch, but after going through, I don't think that was the right choice. I really would have appreciated some starter or skeleton code that it would then be my job to fill in, as that would have changed the problem from figuring out what I'm even supposed to do at all to learning implementation of a GAM. The way the problem was worded made it fairly difficult to understand what exactly I was supposed to do, but maybe this was due to a knowledge gap on my part, I'm not really sure. In terms of scope, I felt that although the problem was fairly narrow in scope, it would have been very good for learning about GAMs if only there was a little bit more help provided."
   ]
  },
  {
   "cell_type": "code",
   "execution_count": null,
   "metadata": {},
   "outputs": [],
   "source": []
  }
 ],
 "metadata": {
  "kernelspec": {
   "display_name": "Python 3",
   "language": "python",
   "name": "python3"
  },
  "language_info": {
   "codemirror_mode": {
    "name": "ipython",
    "version": 3
   },
   "file_extension": ".py",
   "mimetype": "text/x-python",
   "name": "python",
   "nbconvert_exporter": "python",
   "pygments_lexer": "ipython3",
   "version": "3.7.4"
  }
 },
 "nbformat": 4,
 "nbformat_minor": 4
}
