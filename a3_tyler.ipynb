{
 "cells": [
  {
   "cell_type": "markdown",
   "metadata": {},
   "source": [
    "# Tyler Kirby's Question 3\n",
    "\n",
    "## Part 1\n",
    "\\begin{equation}\n",
    "u(\\phi)=5(\\phi)^.5\n",
    "\\end{equation}\n",
    "\n",
    "## Part 2"
   ]
  },
  {
   "cell_type": "code",
   "execution_count": 8,
   "metadata": {},
   "outputs": [
    {
     "data": {
      "text/plain": [
       "3.3749500359187454"
      ]
     },
     "execution_count": 8,
     "metadata": {},
     "output_type": "execute_result"
    }
   ],
   "source": [
    "import numpy as np\n",
    "from scipy.stats import norm\n",
    "\n",
    "mean = 500\n",
    "var = 50\n",
    "domain = np.linspace(0,1000,2000)\n",
    "\n",
    "entropy = norm.entropy(mean,var**.5)\n",
    "entropy.item()"
   ]
  },
  {
   "cell_type": "markdown",
   "metadata": {},
   "source": [
    "## Part 3"
   ]
  },
  {
   "cell_type": "code",
   "execution_count": 9,
   "metadata": {},
   "outputs": [
    {
     "data": {
      "text/plain": [
       "335.4101966249684"
      ]
     },
     "execution_count": 9,
     "metadata": {},
     "output_type": "execute_result"
    }
   ],
   "source": [
    "def utility(y):\n",
    "    return 5*(y**.5)\n",
    "np.sum([utility(price) for price in [500,500,0,0,500]])"
   ]
  },
  {
   "cell_type": "markdown",
   "metadata": {},
   "source": [
    "## Part 4"
   ]
  },
  {
   "cell_type": "code",
   "execution_count": 14,
   "metadata": {},
   "outputs": [
    {
     "data": {
      "text/plain": [
       "7.446199906906159"
      ]
     },
     "execution_count": 14,
     "metadata": {},
     "output_type": "execute_result"
    }
   ],
   "source": [
    "data = [1000,0,0,500]\n",
    "mean2,std2 = norm.fit(data)\n",
    "entropy2 = norm.entropy(mean2,std2)\n",
    "entropy2.item()"
   ]
  },
  {
   "cell_type": "code",
   "execution_count": 15,
   "metadata": {},
   "outputs": [
    {
     "data": {
      "text/plain": [
       "(375.0, 414.578098794425)"
      ]
     },
     "execution_count": 15,
     "metadata": {},
     "output_type": "execute_result"
    }
   ],
   "source": [
    "mean2,std2"
   ]
  },
  {
   "cell_type": "markdown",
   "metadata": {},
   "source": [
    "The entropy went up, which differes from the expectation"
   ]
  },
  {
   "cell_type": "markdown",
   "metadata": {},
   "source": [
    "## Part 5\n",
    "\n",
    "Based on these results, I would lower the price of the diamond rings because a price of \\$500 resulted in a higher entropy than the base model.\n",
    "\n",
    "# Reflection\n",
    "\n",
    "I felt that this problem was pretty creative and I liked how it tried to resemble a real-life use case of Bayesian decision making. This being said, I feel unsure as to whether or not I did some parts of this right at all, but that may be due to a knowledge gap on my end."
   ]
  }
 ],
 "metadata": {
  "kernelspec": {
   "display_name": "Python 3",
   "language": "python",
   "name": "python3"
  },
  "language_info": {
   "codemirror_mode": {
    "name": "ipython",
    "version": 3
   },
   "file_extension": ".py",
   "mimetype": "text/x-python",
   "name": "python",
   "nbconvert_exporter": "python",
   "pygments_lexer": "ipython3",
   "version": "3.7.4"
  }
 },
 "nbformat": 4,
 "nbformat_minor": 4
}
