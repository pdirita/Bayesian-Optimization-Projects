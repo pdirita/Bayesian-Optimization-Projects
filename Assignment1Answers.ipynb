{
 "cells": [
  {
   "cell_type": "markdown",
   "metadata": {},
   "source": [
    "# Answers\n",
    "\n",
    "## Part A\n",
    "\n",
    "α = .5\n",
    "\n",
    "![alpha=.5](alpha.5.png)\n",
    "\n",
    "α = 3\n",
    "\n",
    "![alpha=3](alpha3.PNG)\n",
    "\n",
    "α = 10\n",
    "\n",
    "![alpha=10](alpha10.PNG)"
   ]
  },
  {
   "cell_type": "markdown",
   "metadata": {},
   "source": [
    "## Part B\n",
    "\n",
    "RQ becomes Squared Exponential covariance as α->∞. \n",
    "\n",
    "### Proof:\n",
    "\n",
    "If we substitute |d|=|x-x'| and recognize that |d| is always being squared, we can reqrite the limit function as\n",
    "\n",
    "\\begin{equation*}\n",
    "lim_{\\alpha \\to \\infty} (1 + \\frac{d^2}{2\\alpha})^{-\\alpha}\n",
    "\\end{equation*}\n",
    "\n",
    "We can expand this out to get\n",
    "\n",
    "\\begin{equation*}\n",
    "lim_{\\alpha \\to \\infty} 1-\\frac{d^2}{2}+\\frac{d^4 (\\alpha+1)}{8 \\alpha}-\\frac{d^6 ((\\alpha+1) (\\alpha+2))}{48 \\alpha^2}+\\frac{d^8 (\\alpha+1) (\\alpha+2) (\\alpha+3)}{384 \\alpha^3}-...\n",
    "\\end{equation*}\n",
    "\n",
    "Noticing that α only appears in fractions with matching degree in both the numerator and the denominator, taking the limit as α->∞ clearly causes these terms to go away, leaving us with\n",
    "\n",
    "\\begin{equation*}\n",
    "1-\\frac{d^2}{2}+\\frac{d^4}{8}-\\frac{d^6}{48}+\\frac{d^8}{384}-...\n",
    "\\end{equation*}\n",
    "\n",
    "The series expansion of the exponential operator is\n",
    "\n",
    "\\begin{equation*}\n",
    "e^X = \\sum_{k=0}^{\\infty} \\frac{X^k}{k!}\n",
    "\\end{equation*}\n",
    "\n",
    "so the expansion of the squared exponential function is\n",
    "\\begin{equation*}\n",
    "e^{-\\frac{d^2}{2}} = 1-\\frac{d^2}{2}+\\frac{d^4}{8}-\\frac{d^6}{48}+\\frac{d^8}{384}-...\n",
    "\\end{equation*}\n",
    "\n",
    "which is clearly equivalent to the expansion of the rational quadratic function, as desired"
   ]
  },
  {
   "cell_type": "markdown",
   "metadata": {},
   "source": [
    "## Part C\n",
    "\n",
    "μ ± 1.96 times the square root of the diagonal of the covariance matrix"
   ]
  },
  {
   "cell_type": "code",
   "execution_count": null,
   "metadata": {},
   "outputs": [],
   "source": [
    "uncertainty = 1.96 * np.sqrt(np.diag(cov))"
   ]
  },
  {
   "cell_type": "markdown",
   "metadata": {},
   "source": [
    "## Part D\n",
    "\n",
    "### Completed helper function:"
   ]
  },
  {
   "cell_type": "code",
   "execution_count": 2,
   "metadata": {},
   "outputs": [],
   "source": [
    "import numpy as np\n",
    "import matplotlib.pyplot as plt\n",
    "\n",
    "from matplotlib import cm\n",
    "from mpl_toolkits.mplot3d import Axes3D\n",
    "\n",
    "%matplotlib inline\n",
    "\n",
    "def plot_gp(mu, cov, X, X_train=None, Y_train=None, samples=[]):\n",
    "    X = X.ravel()\n",
    "    mu = mu.ravel()\n",
    "    \n",
    "    \"\"\"TODO: Uncomment line below and modify expression to compute 95% confience interval for the objective function\"\"\"\n",
    "    uncertainty = 1.96 * np.sqrt(np.diag(cov))\n",
    "    \n",
    "    plt.fill_between(X, mu + uncertainty, mu - uncertainty, alpha=0.1)\n",
    "    plt.plot(X, mu, label='Mean')\n",
    "    for i, sample in enumerate(samples):\n",
    "        plt.plot(X, sample, lw=1, ls='--', label=f'Sample {i+1}')\n",
    "    if X_train is not None:\n",
    "        plt.plot(X_train, Y_train, 'rx')\n",
    "    plt.legend()\n",
    "\n",
    "def plot_gp_2D(gx, gy, mu, X_train, Y_train, title, i):\n",
    "    ax = plt.gcf().add_subplot(1, 2, i, projection='3d')\n",
    "    ax.plot_surface(gx, gy, mu.reshape(gx.shape), cmap=cm.coolwarm, linewidth=0, alpha=0.2, antialiased=False)\n",
    "    ax.scatter(X_train[:,0], X_train[:,1], Y_train, c=Y_train, cmap=cm.coolwarm)\n",
    "    ax.set_title(title)"
   ]
  },
  {
   "cell_type": "markdown",
   "metadata": {},
   "source": [
    "### Code to model and plot GP:"
   ]
  },
  {
   "cell_type": "code",
   "execution_count": 3,
   "metadata": {},
   "outputs": [
    {
     "data": {
      "image/png": "[encoded data removed]",
      "text/plain": [
       "<Figure size 432x288 with 1 Axes>"
      ]
     },
     "metadata": {
      "needs_background": "light"
     },
     "output_type": "display_data"
    }
   ],
   "source": [
    "def sqdist(X):\n",
    "    G = (X**2).reshape(-1,1)\n",
    "    return G + G.T - 2 * np.dot(X,X.T)\n",
    "\n",
    "def RQkernel(X, alpha):\n",
    "    sqd = sqdist(X)\n",
    "    return (1 + (sqd) / (2*alpha)) ** (-alpha)\n",
    "    \n",
    "X = np.arange(0,10,.25).reshape(-1,1) # define domain as described in problem and reshape to a column vector\n",
    "u = np.zeros(X.shape) # define mean function as zero vector over domain\n",
    "alpha = 3 # set alpha to desired value\n",
    "cov = RQkernel(X, alpha) # generate covariance matrix\n",
    "samples = np.random.multivariate_normal(u.ravel(), cov, 3) # sample prior\n",
    "plot_gp(u, cov, X, samples=samples) # plot samples and mean"
   ]
  },
  {
   "cell_type": "code",
   "execution_count": 5,
   "metadata": {},
   "outputs": [
    {
     "data": {
      "text/plain": [
       "(40, 1)"
      ]
     },
     "execution_count": 5,
     "metadata": {},
     "output_type": "execute_result"
    }
   ],
   "source": [
    "X.shape"
   ]
  },
  {
   "cell_type": "markdown",
   "metadata": {},
   "source": [
    "# Sources:\n",
    "\n",
    "RQ Kernel found here: http://www.gaussianprocess.org/gpml/chapters/RW4.pdf\n",
    "\n",
    "Helper code for plotting GP found here: https://github.com/krasserm/bayesian-machine-learning/blob/dev/gaussian-processes/gaussian_processes_util.py#L7\n",
    "\n",
    "Part A graphs were generated using Wolfram Alpha"
   ]
  },
  {
   "cell_type": "markdown",
   "metadata": {},
   "source": [
    "# Reflection\n",
    "\n",
    "I felt that the problem was the proper level of difficulty, and I feel that my attempt to have each part of the problem logically flow into the next was successful. In terms of amount of time to solve the problem, this could vary drastically based on the prior knowledge of whoever is solving it. I feel part A should be extremely easy for anyone at this level, while part B is immediately solveable if you recognize series expansions are necessary, but otherwise could take a fair amount of trial and error if not. Similarly, the answer to part C relies directly on information found in the book on page 14 as well as understanding that σ is the square root of the diagonal of the covariance matrix, a fact not directly stated on p14. Part D then relies on basic mathematical programming skills, and I feel it is safe to assume students will have had some exposure to mathematical programming if they are in this course. Expecting students to figure out the graphical piece on their own would have made this problem take way too long, so I feel the incomplete helper function was very good, as it required an implemenation of the answer to part C."
   ]
  }
 ],
 "metadata": {
  "kernelspec": {
   "display_name": "Python 3",
   "language": "python",
   "name": "python3"
  },
  "language_info": {
   "codemirror_mode": {
    "name": "ipython",
    "version": 3
   },
   "file_extension": ".py",
   "mimetype": "text/x-python",
   "name": "python",
   "nbconvert_exporter": "python",
   "pygments_lexer": "ipython3",
   "version": "3.7.4"
  }
 },
 "nbformat": 4,
 "nbformat_minor": 4
}
