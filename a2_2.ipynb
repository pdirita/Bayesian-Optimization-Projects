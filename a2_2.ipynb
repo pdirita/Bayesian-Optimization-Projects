{
 "cells": [
  {
   "cell_type": "code",
   "execution_count": 258,
   "metadata": {},
   "outputs": [],
   "source": [
    "import numpy as np\n",
    "import matplotlib.pyplot as plt\n",
    "from scipy import optimize\n",
    "from numpy.linalg import inv\n",
    "from sklearn.metrics.pairwise import euclidean_distances\n",
    "from scipy.linalg import cho_solve, cho_factor\n",
    "\n",
    "%matplotlib inline"
   ]
  },
  {
   "cell_type": "code",
   "execution_count": 748,
   "metadata": {},
   "outputs": [],
   "source": [
    "def sinc(x):\n",
    "    return np.sin(np.pi * x) / (np.pi * x)\n",
    "\n",
    "def objective(x):\n",
    "    return sinc(x+10) + sinc(x) + sinc(x-10)\n",
    "\n",
    "pts = 250\n",
    "X = np.linspace(-15,15,pts) # value locations\n",
    "y = objective(X) # objective function\n",
    "\n",
    "D = np.concatenate([X[X<=-4.5], X[X>=4.5]]) # value locations we know\n",
    "unk = X[np.logical_and(X>-4.5, X<4.5)]\n",
    "\n",
    "\n",
    "# def dist(X1, X2):\n",
    "#     G1 = (X1**2).reshape(-1,1)\n",
    "#     G2 = (X2**2).reshape(-1,1)\n",
    "#     return np.sqrt(G1 + G2.T - 2 * np.dot(X1,X2.T))\n",
    "\n",
    "def dist(X, X2):\n",
    "        #Distance\n",
    "        if X2 is None:\n",
    "            X2 = X \n",
    "        X = np.expand_dims(X.T, axis=2)\n",
    "        X2 = np.expand_dims(X2.T, axis=1)                                                                          \n",
    "        return np.matmul(X, np.ones_like(X2)) + np.matmul(np.ones_like(X), -X2)\n",
    "\n",
    "\n",
    "    \n",
    "def kernSM(X1, X2, weights, means, covs):\n",
    "    n1 = X1.shape[1]\n",
    "    n2 = X2.shape[1]\n",
    "    X1r = np.repeat(X1, n2, axis=0)\n",
    "    X2r = np.repeat(X2.T, n1, axis=1)\n",
    "    d = X1r - X2r\n",
    "    Q = weights.shape[0]\n",
    "    K = 0\n",
    "    for i in range(Q):\n",
    "        w = weights[i]\n",
    "        m = means[i]\n",
    "        c = covs[i]\n",
    "        Ki = w * np.exp(-2 * np.pi ** 2 * c * np.square(d)) * np.cos(2 * np.pi * d * m)\n",
    "        K += Ki\n",
    "#     print(f'{np.linalg.det(K)} {np.linalg.det(K.T)}')\n",
    "    return K.T\n",
    "        \n",
    "    \n",
    "def predict(X, X_train, Y_train, kernFunc, weights, means, covs, train=False):\n",
    "    C = kernFunc(X_train, X_train, weights, means, covs) + .001 * np.eye(X_train.shape[0])\n",
    "    kappa = kernFunc(X_train, X, weights, means, covs)\n",
    "    K = kernFunc(X, X, weights, means, covs) +  .001 * np.eye(X.shape[0])\n",
    "    C_inv = inv(C)\n",
    "#     if train:\n",
    "#         try:\n",
    "#             cho = cho_factor(C,lower=True)\n",
    "#             L = cho[0]\n",
    "#             lower = cho[1]\n",
    "#             upper = not lower\n",
    "#             v = cho_solve((L.T, upper), kappa)\n",
    "#             b = cho_solve(cho, Y_train)\n",
    "#             alpha = cho_solve((L.T, upper), b)\n",
    "\n",
    "#             u = kappa.T.dot(alpha)\n",
    "#             cov = K - np.dot(v.T, v)\n",
    "#             ml = -.5 * (Y_train.T.dot(alpha) + 2 * np.sum(np.log(np.diag(L))) + len(X_train) * np.log(2 * np.pi))\n",
    "#             return u, cov, ml\n",
    "#         except:\n",
    "#             return np.zeros_like(X), K, np.array([[-1000]])\n",
    "    u = kappa.T.dot(C_inv).dot(Y_train)\n",
    "    cov = K - kappa.T.dot(C_inv).dot(kappa)\n",
    "    return u, cov\n",
    "    \n",
    "        \n",
    "# hyps = [weight vector, mean vector, covariance vector]\n",
    "def marginalLikelihood(hyps, objval, xInds, Q, sig, train):\n",
    "    hyps = hyps.flatten()\n",
    "        \n",
    "    w = hyps[:Q].reshape(-1,1)\n",
    "    m = hyps[Q:2*Q].reshape(-1,1)\n",
    "    cov = hyps[2*Q:].reshape(-1,1)\n",
    "    \n",
    "    condMean, condKern = predict(xInds, xInds, objective(xInds), kernSM, w, m, cov, train)\n",
    "#     print(f'{np.linalg.det(condKern)} {ml[0,0]}')\n",
    "#     return -ml[0,0]\n",
    "    ml = - .5 * (objval - condMean).T @ inv(condKern + sig) @ (objval - condMean) - .5 * np.linalg.det(condKern + sig) - len(xInds)/2 * np.log(2*np.pi)\n",
    "#     print(f'{np.linalg.det(condKern)} {ml[0,0]}')\n",
    "    return ml[0,0]"
   ]
  },
  {
   "cell_type": "code",
   "execution_count": 749,
   "metadata": {},
   "outputs": [],
   "source": [
    "Q = 7\n",
    "\n",
    "Dvect = D.reshape(-1,1)\n",
    "hyps = np.random.random(3 * Q) * 1e-8\n",
    "noise = .001 * np.eye(Dvect.shape[0])\n",
    "knownData = objective(Dvect)\n",
    "\n",
    "# hyps = np.concatenate([Wvect, Mvect, Cvect])"
   ]
  },
  {
   "cell_type": "code",
   "execution_count": 750,
   "metadata": {},
   "outputs": [
    {
     "name": "stderr",
     "output_type": "stream",
     "text": [
      "C:\\Users\\Patrick\\Anaconda3\\lib\\site-packages\\ipykernel_launcher.py:44: RuntimeWarning: invalid value encountered in add\n"
     ]
    },
    {
     "name": "stdout",
     "output_type": "stream",
     "text": [
      "Optimization terminated successfully.\n",
      "         Current function value: nan\n",
      "         Iterations: 1\n",
      "         Function evaluations: 2576\n",
      "         Gradient evaluations: 112\n"
     ]
    },
    {
     "name": "stderr",
     "output_type": "stream",
     "text": [
      "C:\\Users\\Patrick\\Anaconda3\\lib\\site-packages\\numpy\\linalg\\linalg.py:2093: RuntimeWarning: invalid value encountered in det\n",
      "  r = _umath_linalg.det(a, signature=signature)\n",
      "C:\\Users\\Patrick\\Anaconda3\\lib\\site-packages\\numpy\\linalg\\linalg.py:2093: RuntimeWarning: invalid value encountered in det\n",
      "  r = _umath_linalg.det(a, signature=signature)\n"
     ]
    }
   ],
   "source": [
    "optHyps = optimize.fmin_cg(marginalLikelihood, hyps, args=(knownData, Dvect, Q, noise, True), epsilon=1e-6, gtol=-1e20)"
   ]
  },
  {
   "cell_type": "code",
   "execution_count": 747,
   "metadata": {},
   "outputs": [
    {
     "ename": "ValueError",
     "evalue": "array must not contain infs or NaNs",
     "output_type": "error",
     "traceback": [
      "\u001b[1;31m---------------------------------------------------------------------------\u001b[0m",
      "\u001b[1;31mValueError\u001b[0m                                Traceback (most recent call last)",
      "\u001b[1;32m<ipython-input-747-f3a440575486>\u001b[0m in \u001b[0;36m<module>\u001b[1;34m\u001b[0m\n\u001b[0;32m      1\u001b[0m \u001b[0mu_posterior\u001b[0m\u001b[1;33m,\u001b[0m \u001b[0mK_posterior\u001b[0m \u001b[1;33m=\u001b[0m \u001b[0mpredict\u001b[0m\u001b[1;33m(\u001b[0m\u001b[0munk\u001b[0m\u001b[1;33m.\u001b[0m\u001b[0mreshape\u001b[0m\u001b[1;33m(\u001b[0m\u001b[1;33m-\u001b[0m\u001b[1;36m1\u001b[0m\u001b[1;33m,\u001b[0m\u001b[1;36m1\u001b[0m\u001b[1;33m)\u001b[0m\u001b[1;33m,\u001b[0m \u001b[0mDvect\u001b[0m\u001b[1;33m,\u001b[0m \u001b[0mknownData\u001b[0m\u001b[1;33m,\u001b[0m \u001b[0mkernSM\u001b[0m\u001b[1;33m,\u001b[0m \u001b[0moptw\u001b[0m\u001b[1;33m,\u001b[0m \u001b[0moptm\u001b[0m\u001b[1;33m,\u001b[0m \u001b[0moptcov\u001b[0m\u001b[1;33m)\u001b[0m\u001b[1;33m\u001b[0m\u001b[1;33m\u001b[0m\u001b[0m\n\u001b[1;32m----> 2\u001b[1;33m \u001b[0mpost_samples\u001b[0m \u001b[1;33m=\u001b[0m \u001b[0mnp\u001b[0m\u001b[1;33m.\u001b[0m\u001b[0mrandom\u001b[0m\u001b[1;33m.\u001b[0m\u001b[0mmultivariate_normal\u001b[0m\u001b[1;33m(\u001b[0m\u001b[0mu_posterior\u001b[0m\u001b[1;33m.\u001b[0m\u001b[0mravel\u001b[0m\u001b[1;33m(\u001b[0m\u001b[1;33m)\u001b[0m\u001b[1;33m,\u001b[0m \u001b[0mK_posterior\u001b[0m\u001b[1;33m,\u001b[0m \u001b[1;36m1\u001b[0m\u001b[1;33m)\u001b[0m\u001b[1;33m\u001b[0m\u001b[1;33m\u001b[0m\u001b[0m\n\u001b[0m\u001b[0;32m      3\u001b[0m \u001b[0mplt\u001b[0m\u001b[1;33m.\u001b[0m\u001b[0mplot\u001b[0m\u001b[1;33m(\u001b[0m\u001b[0munk\u001b[0m\u001b[1;33m,\u001b[0m \u001b[0mu_posterior\u001b[0m\u001b[1;33m)\u001b[0m\u001b[1;33m\u001b[0m\u001b[1;33m\u001b[0m\u001b[0m\n\u001b[0;32m      4\u001b[0m \u001b[0mplt\u001b[0m\u001b[1;33m.\u001b[0m\u001b[0mplot\u001b[0m\u001b[1;33m(\u001b[0m\u001b[0mX\u001b[0m\u001b[1;33m,\u001b[0m \u001b[0my\u001b[0m\u001b[1;33m)\u001b[0m\u001b[1;33m\u001b[0m\u001b[1;33m\u001b[0m\u001b[0m\n",
      "\u001b[1;32mmtrand.pyx\u001b[0m in \u001b[0;36mmtrand.RandomState.multivariate_normal\u001b[1;34m()\u001b[0m\n",
      "\u001b[1;32m~\\Anaconda3\\lib\\site-packages\\scipy\\linalg\\decomp_svd.py\u001b[0m in \u001b[0;36msvd\u001b[1;34m(a, full_matrices, compute_uv, overwrite_a, check_finite, lapack_driver)\u001b[0m\n\u001b[0;32m    107\u001b[0m \u001b[1;33m\u001b[0m\u001b[0m\n\u001b[0;32m    108\u001b[0m     \"\"\"\n\u001b[1;32m--> 109\u001b[1;33m     \u001b[0ma1\u001b[0m \u001b[1;33m=\u001b[0m \u001b[0m_asarray_validated\u001b[0m\u001b[1;33m(\u001b[0m\u001b[0ma\u001b[0m\u001b[1;33m,\u001b[0m \u001b[0mcheck_finite\u001b[0m\u001b[1;33m=\u001b[0m\u001b[0mcheck_finite\u001b[0m\u001b[1;33m)\u001b[0m\u001b[1;33m\u001b[0m\u001b[1;33m\u001b[0m\u001b[0m\n\u001b[0m\u001b[0;32m    110\u001b[0m     \u001b[1;32mif\u001b[0m \u001b[0mlen\u001b[0m\u001b[1;33m(\u001b[0m\u001b[0ma1\u001b[0m\u001b[1;33m.\u001b[0m\u001b[0mshape\u001b[0m\u001b[1;33m)\u001b[0m \u001b[1;33m!=\u001b[0m \u001b[1;36m2\u001b[0m\u001b[1;33m:\u001b[0m\u001b[1;33m\u001b[0m\u001b[1;33m\u001b[0m\u001b[0m\n\u001b[0;32m    111\u001b[0m         \u001b[1;32mraise\u001b[0m \u001b[0mValueError\u001b[0m\u001b[1;33m(\u001b[0m\u001b[1;34m'expected matrix'\u001b[0m\u001b[1;33m)\u001b[0m\u001b[1;33m\u001b[0m\u001b[1;33m\u001b[0m\u001b[0m\n",
      "\u001b[1;32m~\\Anaconda3\\lib\\site-packages\\scipy\\_lib\\_util.py\u001b[0m in \u001b[0;36m_asarray_validated\u001b[1;34m(a, check_finite, sparse_ok, objects_ok, mask_ok, as_inexact)\u001b[0m\n\u001b[0;32m    237\u001b[0m             \u001b[1;32mraise\u001b[0m \u001b[0mValueError\u001b[0m\u001b[1;33m(\u001b[0m\u001b[1;34m'masked arrays are not supported'\u001b[0m\u001b[1;33m)\u001b[0m\u001b[1;33m\u001b[0m\u001b[1;33m\u001b[0m\u001b[0m\n\u001b[0;32m    238\u001b[0m     \u001b[0mtoarray\u001b[0m \u001b[1;33m=\u001b[0m \u001b[0mnp\u001b[0m\u001b[1;33m.\u001b[0m\u001b[0masarray_chkfinite\u001b[0m \u001b[1;32mif\u001b[0m \u001b[0mcheck_finite\u001b[0m \u001b[1;32melse\u001b[0m \u001b[0mnp\u001b[0m\u001b[1;33m.\u001b[0m\u001b[0masarray\u001b[0m\u001b[1;33m\u001b[0m\u001b[1;33m\u001b[0m\u001b[0m\n\u001b[1;32m--> 239\u001b[1;33m     \u001b[0ma\u001b[0m \u001b[1;33m=\u001b[0m \u001b[0mtoarray\u001b[0m\u001b[1;33m(\u001b[0m\u001b[0ma\u001b[0m\u001b[1;33m)\u001b[0m\u001b[1;33m\u001b[0m\u001b[1;33m\u001b[0m\u001b[0m\n\u001b[0m\u001b[0;32m    240\u001b[0m     \u001b[1;32mif\u001b[0m \u001b[1;32mnot\u001b[0m \u001b[0mobjects_ok\u001b[0m\u001b[1;33m:\u001b[0m\u001b[1;33m\u001b[0m\u001b[1;33m\u001b[0m\u001b[0m\n\u001b[0;32m    241\u001b[0m         \u001b[1;32mif\u001b[0m \u001b[0ma\u001b[0m\u001b[1;33m.\u001b[0m\u001b[0mdtype\u001b[0m \u001b[1;32mis\u001b[0m \u001b[0mnp\u001b[0m\u001b[1;33m.\u001b[0m\u001b[0mdtype\u001b[0m\u001b[1;33m(\u001b[0m\u001b[1;34m'O'\u001b[0m\u001b[1;33m)\u001b[0m\u001b[1;33m:\u001b[0m\u001b[1;33m\u001b[0m\u001b[1;33m\u001b[0m\u001b[0m\n",
      "\u001b[1;32m~\\Anaconda3\\lib\\site-packages\\numpy\\lib\\function_base.py\u001b[0m in \u001b[0;36masarray_chkfinite\u001b[1;34m(a, dtype, order)\u001b[0m\n\u001b[0;32m    496\u001b[0m     \u001b[1;32mif\u001b[0m \u001b[0ma\u001b[0m\u001b[1;33m.\u001b[0m\u001b[0mdtype\u001b[0m\u001b[1;33m.\u001b[0m\u001b[0mchar\u001b[0m \u001b[1;32min\u001b[0m \u001b[0mtypecodes\u001b[0m\u001b[1;33m[\u001b[0m\u001b[1;34m'AllFloat'\u001b[0m\u001b[1;33m]\u001b[0m \u001b[1;32mand\u001b[0m \u001b[1;32mnot\u001b[0m \u001b[0mnp\u001b[0m\u001b[1;33m.\u001b[0m\u001b[0misfinite\u001b[0m\u001b[1;33m(\u001b[0m\u001b[0ma\u001b[0m\u001b[1;33m)\u001b[0m\u001b[1;33m.\u001b[0m\u001b[0mall\u001b[0m\u001b[1;33m(\u001b[0m\u001b[1;33m)\u001b[0m\u001b[1;33m:\u001b[0m\u001b[1;33m\u001b[0m\u001b[1;33m\u001b[0m\u001b[0m\n\u001b[0;32m    497\u001b[0m         raise ValueError(\n\u001b[1;32m--> 498\u001b[1;33m             \"array must not contain infs or NaNs\")\n\u001b[0m\u001b[0;32m    499\u001b[0m     \u001b[1;32mreturn\u001b[0m \u001b[0ma\u001b[0m\u001b[1;33m\u001b[0m\u001b[1;33m\u001b[0m\u001b[0m\n\u001b[0;32m    500\u001b[0m \u001b[1;33m\u001b[0m\u001b[0m\n",
      "\u001b[1;31mValueError\u001b[0m: array must not contain infs or NaNs"
     ]
    }
   ],
   "source": [
    "u_posterior, K_posterior = predict(unk.reshape(-1,1), Dvect, knownData, kernSM, optw, optm, optcov)\n",
    "post_samples = np.random.multivariate_normal(u_posterior.ravel(), K_posterior, 1)\n",
    "plt.plot(unk, u_posterior)\n",
    "plt.plot(X, y)"
   ]
  },
  {
   "cell_type": "code",
   "execution_count": null,
   "metadata": {},
   "outputs": [],
   "source": []
  }
 ],
 "metadata": {
  "kernelspec": {
   "display_name": "Python 3",
   "language": "python",
   "name": "python3"
  },
  "language_info": {
   "codemirror_mode": {
    "name": "ipython",
    "version": 3
   },
   "file_extension": ".py",
   "mimetype": "text/x-python",
   "name": "python",
   "nbconvert_exporter": "python",
   "pygments_lexer": "ipython3",
   "version": "3.7.4"
  }
 },
 "nbformat": 4,
 "nbformat_minor": 4
}
