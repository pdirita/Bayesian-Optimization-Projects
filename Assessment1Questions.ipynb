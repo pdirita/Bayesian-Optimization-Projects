{
 "cells": [
  {
   "cell_type": "markdown",
   "metadata": {},
   "source": [
    "# Assignment 1\n",
    "\n",
    "Construct an explicit Gaussian Process for a function on the interval *X = [0,10]*. \n",
    "\n",
    "For the mean function we take the zero function \\begin{equation*}\n",
    "\\mu = 0\n",
    "\\end{equation*}\n",
    "\n",
    "which indicates a constant expected value over the domain.\n",
    "\n",
    "For the covariance function, we take the *Rational Quadratic* covariance:\n",
    "\\begin{equation*}\n",
    "K(x,x') = (1 + \\frac{|x-x'|^2}{2\\alpha})^{-\\alpha}, \\alpha \\geq 0\n",
    "\\end{equation*}"
   ]
  },
  {
   "cell_type": "markdown",
   "metadata": {},
   "source": [
    "# Questions\n",
    "\n",
    "## Part A\n",
    "\n",
    "Using some graphical library or solver, plot the covariance function as a function of the distance between inputs using three different values for the parameter α."
   ]
  },
  {
   "cell_type": "markdown",
   "metadata": {},
   "source": [
    "## Part B\n",
    "\n",
    "Which common covariance function does RQ covariance become equivalent to as α->∞? Explain."
   ]
  },
  {
   "cell_type": "markdown",
   "metadata": {},
   "source": [
    "## Part C\n",
    "\n",
    "How is the 95% confidence interval for ϕ computed?"
   ]
  },
  {
   "cell_type": "markdown",
   "metadata": {},
   "source": [
    "## Part D\n",
    "\n",
    "Model the mean and covariance functions (with parameter α = 3) using a mathematical programming language or library and use these to generate random sample functions from the prior. Graph these samples, the mean function, and the 95% confidence interval (as seen in figure 1.2 in the book). To output a graph (if using Python), complete and then call the provided helper function plot_gp.\n",
    "\n",
    "**Note:** The author of this assignment used Python with MatPlotLib and NumPy for this part. Although this assignment leaves the choice of language to the reader, the provided helper function is in Python. If using another language, it is not necessary to provide your code with your answers, but the outputs should roughly match the figures referenced in the book.\n",
    "\n",
    "### Incomplete helper function:"
   ]
  },
  {
   "cell_type": "code",
   "execution_count": 4,
   "metadata": {},
   "outputs": [],
   "source": [
    "import numpy as np\n",
    "import matplotlib.pyplot as plt\n",
    "\n",
    "from matplotlib import cm\n",
    "from mpl_toolkits.mplot3d import Axes3D\n",
    "\n",
    "def plot_gp(mu, cov, X, X_train=None, Y_train=None, samples=[]):\n",
    "    X = X.ravel()\n",
    "    mu = mu.ravel()\n",
    "    \n",
    "    \"\"\"TODO: Uncomment line below and modify expression to compute 95% confience interval for the objective function\"\"\"\n",
    "    #uncertainty = TODO\n",
    "    \n",
    "    plt.fill_between(X, mu + uncertainty, mu - uncertainty, alpha=0.1)\n",
    "    plt.plot(X, mu, label='Mean')\n",
    "    for i, sample in enumerate(samples):\n",
    "        plt.plot(X, sample, lw=1, ls='--', label=f'Sample {i+1}')\n",
    "    if X_train is not None:\n",
    "        plt.plot(X_train, Y_train, 'rx')\n",
    "    plt.legend()\n",
    "\n",
    "def plot_gp_2D(gx, gy, mu, X_train, Y_train, title, i):\n",
    "    ax = plt.gcf().add_subplot(1, 2, i, projection='3d')\n",
    "    ax.plot_surface(gx, gy, mu.reshape(gx.shape), cmap=cm.coolwarm, linewidth=0, alpha=0.2, antialiased=False)\n",
    "    ax.scatter(X_train[:,0], X_train[:,1], Y_train, c=Y_train, cmap=cm.coolwarm)\n",
    "    ax.set_title(title)"
   ]
  }
 ],
 "metadata": {
  "kernelspec": {
   "display_name": "Python 3",
   "language": "python",
   "name": "python3"
  },
  "language_info": {
   "codemirror_mode": {
    "name": "ipython",
    "version": 3
   },
   "file_extension": ".py",
   "mimetype": "text/x-python",
   "name": "python",
   "nbconvert_exporter": "python",
   "pygments_lexer": "ipython3",
   "version": "3.7.4"
  }
 },
 "nbformat": 4,
 "nbformat_minor": 4
}
