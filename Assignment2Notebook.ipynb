{
 "cells": [
  {
   "cell_type": "code",
   "execution_count": 1,
   "metadata": {},
   "outputs": [],
   "source": [
    "# sinc(x) = sin(πx)/(πx)\n",
    "# sinc(x) = np.sin(np.pi * x)/(np.pi * x)\n",
    "# objective = y(x) = sinc(x + 10) + sinc(x) + sinc(x − 10)"
   ]
  },
  {
   "cell_type": "code",
   "execution_count": 37,
   "metadata": {},
   "outputs": [],
   "source": [
    "import numpy as np\n",
    "import matplotlib.pyplot as plt\n",
    "from scipy import optimize\n",
    "from numpy.linalg import inv\n",
    "from sklearn.metrics.pairwise import euclidean_distances\n",
    "\n",
    "%matplotlib inline"
   ]
  },
  {
   "cell_type": "code",
   "execution_count": 38,
   "metadata": {},
   "outputs": [],
   "source": [
    "def sinc(x):\n",
    "    return np.sin(np.pi * x) / (np.pi * x)\n",
    "\n",
    "def objective(x):\n",
    "    return sinc(x+10) + sinc(x) + sinc(x-10)"
   ]
  },
  {
   "cell_type": "code",
   "execution_count": 39,
   "metadata": {},
   "outputs": [],
   "source": [
    "pts = 50\n",
    "X = np.linspace(-15,15,pts) # value locations\n",
    "y = objective(X) # objective function"
   ]
  },
  {
   "cell_type": "code",
   "execution_count": 40,
   "metadata": {},
   "outputs": [
    {
     "data": {
      "text/plain": [
       "[<matplotlib.lines.Line2D at 0x253d4b49dc8>]"
      ]
     },
     "execution_count": 40,
     "metadata": {},
     "output_type": "execute_result"
    },
    {
     "data": {
      "image/png": "[encoded data removed]",
      "text/plain": [
       "<Figure size 432x288 with 1 Axes>"
      ]
     },
     "metadata": {
      "needs_background": "light"
     },
     "output_type": "display_data"
    }
   ],
   "source": [
    "plt.plot(X,y)"
   ]
  },
  {
   "cell_type": "code",
   "execution_count": 49,
   "metadata": {},
   "outputs": [],
   "source": [
    "D = np.concatenate([X[X<=-4.5], X[X>=4.5]]) # value locations we know\n",
    "unk = X[np.logical_and(X>-4.5, X<4.5)]"
   ]
  },
  {
   "cell_type": "code",
   "execution_count": 50,
   "metadata": {},
   "outputs": [],
   "source": [
    "def dist(X1, X2):\n",
    "    G1 = (X1**2).reshape(-1,1)\n",
    "    G2 = (X2**2).reshape(-1,1)\n",
    "    return np.sqrt(G1 + G2.T - 2 * np.dot(X1,X2.T))\n",
    "\n",
    "def sqdist(X1, X2):\n",
    "    G1 = (X1**2).reshape(-1,1)\n",
    "    G2 = (X2**2).reshape(-1,1)\n",
    "    return G1 + G2.T - 2 * np.dot(X1,X2.T)\n",
    "\n",
    "def kernSM_helper(x1, x2, weights, means, covs):\n",
    "    # K(x,x')= sum_i^Q w_i * exp(-2pi^2*(x-x').T*covs_i*(x-x'))cos(2pi*(x-x').T*means(i))\n",
    "    d = x1-x2\n",
    "    Q = weights.shape[0]\n",
    "    K = 0\n",
    "    for i in range(Q):\n",
    "        Ki = weights[i] * np.exp(-2 * np.pi * covs[i] * np.square(d)) * np.cos(2 * np.pi * d * means[i])\n",
    "        K += Ki\n",
    "    try:\n",
    "        return K[0]\n",
    "    except:\n",
    "        return K\n",
    "\n",
    "def kernSM(X1, X2, weights, means, covs):\n",
    "    return np.array([[kernSM_helper(x1,x2,weights,means,covs) for x1 in X2.ravel()] for x2 in X1.ravel()])\n",
    "        \n",
    "    \n",
    "def predict(X, X_train, Y_train, kernFunc, weights, means, covs):\n",
    "    C = kernFunc(X_train, X_train, weights, means, covs)\n",
    "    kappa = kernFunc(X_train, X, weights, means, covs)\n",
    "    K = kernFunc(X,X, weights, means, covs) + 1e-8 * np.eye(len(X))\n",
    "    \n",
    "    u = kappa.T.dot(inv(C)).dot(Y_train)\n",
    "    cov = K - kappa.T.dot(inv(C)).dot(kappa)\n",
    "    return u, cov\n",
    "        \n",
    "# hyps = [weight vector, mean vector, covariance vector]\n",
    "def marginalLikelihood(hyps, objval, xInds, Q, sig):\n",
    "    w = hyps[:Q].reshape(-1,1)\n",
    "    m = hyps[Q:2*Q].reshape(-1,1)\n",
    "    cov = hyps[2*Q:].reshape(-1,1)\n",
    "    \n",
    "    \n",
    "    zeroMean = np.zeros_like(objval)\n",
    "    \n",
    "    condMean, condKern = predict(xInds, xInds, objective(xInds), kernSM, w, m, cov)\n",
    "    return -.5 * (objval - condMean).T @ inv(condKern + sig) @ (objval - condMean) - .5 * np.linalg.det(condKern + sig) - len(xInds)/2 * np.log(2*np.pi)"
   ]
  },
  {
   "cell_type": "code",
   "execution_count": 51,
   "metadata": {},
   "outputs": [],
   "source": [
    "Q = 5\n",
    "Dvect = D.reshape(-1,1)\n",
    "Wvect = np.random.choice(np.arange(100)+1, Q, replace=False) / 10\n",
    "Mvect = np.random.random(Q)\n",
    "Cvect = np.random.random(Q)\n",
    "noise = .005 * np.eye(Dvect.shape[0])"
   ]
  },
  {
   "cell_type": "code",
   "execution_count": 52,
   "metadata": {},
   "outputs": [],
   "source": [
    "hyps = np.concatenate([Wvect, Mvect, Cvect])"
   ]
  },
  {
   "cell_type": "code",
   "execution_count": 53,
   "metadata": {},
   "outputs": [
    {
     "name": "stdout",
     "output_type": "stream",
     "text": [
      "Optimization terminated successfully.\n",
      "         Current function value: -33.081787\n",
      "         Iterations: 0\n",
      "         Function evaluations: 17\n",
      "         Gradient evaluations: 1\n"
     ]
    }
   ],
   "source": [
    "optHyps = optimize.fmin_cg(marginalLikelihood, hyps, args=(objective(D).reshape(-1,1), Dvect, Q, noise))"
   ]
  },
  {
   "cell_type": "code",
   "execution_count": 54,
   "metadata": {},
   "outputs": [],
   "source": [
    "optw = optHyps[:Q].reshape(-1,1)\n",
    "optm = optHyps[Q:2*Q].reshape(-1,1)\n",
    "optcov = optHyps[2*Q:].reshape(-1,1)"
   ]
  },
  {
   "cell_type": "code",
   "execution_count": 55,
   "metadata": {},
   "outputs": [],
   "source": [
    "u_posterior, K_posterior = predict(unk, Dvect, objective(D).reshape(-1,1), kernSM, optw, optm, optcov)\n",
    "post_samples = np.random.multivariate_normal(u_posterior.ravel(), K_posterior, 1)"
   ]
  },
  {
   "cell_type": "code",
   "execution_count": 56,
   "metadata": {},
   "outputs": [
    {
     "data": {
      "text/plain": [
       "[<matplotlib.lines.Line2D at 0x253d4c22688>]"
      ]
     },
     "execution_count": 56,
     "metadata": {},
     "output_type": "execute_result"
    },
    {
     "data": {
      "image/png": "[encoded data removed]",
      "text/plain": [
       "<Figure size 432x288 with 1 Axes>"
      ]
     },
     "metadata": {
      "needs_background": "light"
     },
     "output_type": "display_data"
    }
   ],
   "source": [
    "plt.plot(unk, u_posterior.ravel())"
   ]
  },
  {
   "cell_type": "markdown",
   "metadata": {},
   "source": [
    "# Reflection:\n",
    "\n",
    "I think I may have gone a bit too hard on this one, as it took me a couple days to get to a working state, but I found this problem to be extremely interesting when I first read about it in this paper: https://arxiv.org/pdf/1302.4245.pdf\n",
    "\n",
    "Although the problem is a bit difficult, I feel that it covers the scope of chapter 3 fairly well, and requires a strong grasp of the concepts we have learned so far."
   ]
  },
  {
   "cell_type": "code",
   "execution_count": null,
   "metadata": {},
   "outputs": [],
   "source": []
  }
 ],
 "metadata": {
  "kernelspec": {
   "display_name": "Python 3",
   "language": "python",
   "name": "python3"
  },
  "language_info": {
   "codemirror_mode": {
    "name": "ipython",
    "version": 3
   },
   "file_extension": ".py",
   "mimetype": "text/x-python",
   "name": "python",
   "nbconvert_exporter": "python",
   "pygments_lexer": "ipython3",
   "version": "3.7.4"
  }
 },
 "nbformat": 4,
 "nbformat_minor": 4
}
